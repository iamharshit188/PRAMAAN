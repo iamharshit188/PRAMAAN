{
 "cells": [
  {
   "cell_type": "code",
   "execution_count": 1,
   "metadata": {
    "execution": {
     "iopub.execute_input": "2025-03-27T23:29:39.043189Z",
     "iopub.status.busy": "2025-03-27T23:29:39.042879Z",
     "iopub.status.idle": "2025-03-27T23:31:10.603649Z",
     "shell.execute_reply": "2025-03-27T23:31:10.602730Z",
     "shell.execute_reply.started": "2025-03-27T23:29:39.043164Z"
    },
    "trusted": true
   },
   "outputs": [
    {
     "name": "stdout",
     "output_type": "stream",
     "text": [
      "GPU available: True\n",
      "Using device: Tesla T4\n"
     ]
    },
    {
     "data": {
      "application/vnd.jupyter.widget-view+json": {
       "model_id": "e61dc417472e4bd0a677b3fa18be1ad4",
       "version_major": 2,
       "version_minor": 0
      },
      "text/plain": [
       "tokenizer_config.json:   0%|          | 0.00/2.54k [00:00<?, ?B/s]"
      ]
     },
     "metadata": {},
     "output_type": "display_data"
    },
    {
     "data": {
      "application/vnd.jupyter.widget-view+json": {
       "model_id": "c0483ebf570848869a2ae57fdcf652fa",
       "version_major": 2,
       "version_minor": 0
      },
      "text/plain": [
       "spiece.model:   0%|          | 0.00/792k [00:00<?, ?B/s]"
      ]
     },
     "metadata": {},
     "output_type": "display_data"
    },
    {
     "data": {
      "application/vnd.jupyter.widget-view+json": {
       "model_id": "6bd2f9eab4bf446b82f3c59068c8af07",
       "version_major": 2,
       "version_minor": 0
      },
      "text/plain": [
       "tokenizer.json:   0%|          | 0.00/2.42M [00:00<?, ?B/s]"
      ]
     },
     "metadata": {},
     "output_type": "display_data"
    },
    {
     "data": {
      "application/vnd.jupyter.widget-view+json": {
       "model_id": "f21d259a7cb64d7eb5c6b6ed530de294",
       "version_major": 2,
       "version_minor": 0
      },
      "text/plain": [
       "special_tokens_map.json:   0%|          | 0.00/2.20k [00:00<?, ?B/s]"
      ]
     },
     "metadata": {},
     "output_type": "display_data"
    },
    {
     "data": {
      "application/vnd.jupyter.widget-view+json": {
       "model_id": "eb579a66113b4094955f9adb8f71b928",
       "version_major": 2,
       "version_minor": 0
      },
      "text/plain": [
       "config.json:   0%|          | 0.00/1.40k [00:00<?, ?B/s]"
      ]
     },
     "metadata": {},
     "output_type": "display_data"
    },
    {
     "data": {
      "application/vnd.jupyter.widget-view+json": {
       "model_id": "d0999da89b7c4fa19306f1a98a09c583",
       "version_major": 2,
       "version_minor": 0
      },
      "text/plain": [
       "model.safetensors:   0%|          | 0.00/990M [00:00<?, ?B/s]"
      ]
     },
     "metadata": {},
     "output_type": "display_data"
    },
    {
     "data": {
      "application/vnd.jupyter.widget-view+json": {
       "model_id": "a6ce13b1b42544b899da8de17e02e768",
       "version_major": 2,
       "version_minor": 0
      },
      "text/plain": [
       "generation_config.json:   0%|          | 0.00/147 [00:00<?, ?B/s]"
      ]
     },
     "metadata": {},
     "output_type": "display_data"
    },
    {
     "data": {
      "application/vnd.jupyter.widget-view+json": {
       "model_id": "28e36d4922164b91aadf32dc0ccd5582",
       "version_major": 2,
       "version_minor": 0
      },
      "text/plain": [
       "Map:   0%|          | 0/32 [00:00<?, ? examples/s]"
      ]
     },
     "metadata": {},
     "output_type": "display_data"
    },
    {
     "data": {
      "application/vnd.jupyter.widget-view+json": {
       "model_id": "b554859ef90744adb152b9f5f6181855",
       "version_major": 2,
       "version_minor": 0
      },
      "text/plain": [
       "Map:   0%|          | 0/8 [00:00<?, ? examples/s]"
      ]
     },
     "metadata": {},
     "output_type": "display_data"
    },
    {
     "name": "stderr",
     "output_type": "stream",
     "text": [
      "/usr/local/lib/python3.10/dist-packages/transformers/training_args.py:1575: FutureWarning: `evaluation_strategy` is deprecated and will be removed in version 4.46 of 🤗 Transformers. Use `eval_strategy` instead\n",
      "  warnings.warn(\n",
      "Passing a tuple of `past_key_values` is deprecated and will be removed in Transformers v4.48.0. You should pass an instance of `EncoderDecoderCache` instead, e.g. `past_key_values=EncoderDecoderCache.from_legacy_cache(past_key_values)`.\n",
      "/usr/local/lib/python3.10/dist-packages/torch/nn/parallel/_functions.py:71: UserWarning: Was asked to gather along dimension 0, but all input tensors were scalars; will instead unsqueeze and return a vector.\n",
      "  warnings.warn(\n"
     ]
    },
    {
     "data": {
      "text/html": [
       "\n",
       "    <div>\n",
       "      \n",
       "      <progress value='6' max='6' style='width:300px; height:20px; vertical-align: middle;'></progress>\n",
       "      [6/6 00:42, Epoch 3/3]\n",
       "    </div>\n",
       "    <table border=\"1\" class=\"dataframe\">\n",
       "  <thead>\n",
       " <tr style=\"text-align: left;\">\n",
       "      <th>Epoch</th>\n",
       "      <th>Training Loss</th>\n",
       "      <th>Validation Loss</th>\n",
       "    </tr>\n",
       "  </thead>\n",
       "  <tbody>\n",
       "    <tr>\n",
       "      <td>1</td>\n",
       "      <td>No log</td>\n",
       "      <td>2.180422</td>\n",
       "    </tr>\n",
       "    <tr>\n",
       "      <td>2</td>\n",
       "      <td>No log</td>\n",
       "      <td>2.132757</td>\n",
       "    </tr>\n",
       "    <tr>\n",
       "      <td>3</td>\n",
       "      <td>No log</td>\n",
       "      <td>2.111821</td>\n",
       "    </tr>\n",
       "  </tbody>\n",
       "</table><p>"
      ],
      "text/plain": [
       "<IPython.core.display.HTML object>"
      ]
     },
     "metadata": {},
     "output_type": "display_data"
    },
    {
     "name": "stderr",
     "output_type": "stream",
     "text": [
      "/usr/local/lib/python3.10/dist-packages/torch/nn/parallel/_functions.py:71: UserWarning: Was asked to gather along dimension 0, but all input tensors were scalars; will instead unsqueeze and return a vector.\n",
      "  warnings.warn(\n",
      "/usr/local/lib/python3.10/dist-packages/torch/nn/parallel/_functions.py:71: UserWarning: Was asked to gather along dimension 0, but all input tensors were scalars; will instead unsqueeze and return a vector.\n",
      "  warnings.warn(\n",
      "/usr/local/lib/python3.10/dist-packages/torch/nn/parallel/_functions.py:71: UserWarning: Was asked to gather along dimension 0, but all input tensors were scalars; will instead unsqueeze and return a vector.\n",
      "  warnings.warn(\n"
     ]
    },
    {
     "data": {
      "text/plain": [
       "('./flan_t5_indian_finance/tokenizer_config.json',\n",
       " './flan_t5_indian_finance/special_tokens_map.json',\n",
       " './flan_t5_indian_finance/spiece.model',\n",
       " './flan_t5_indian_finance/added_tokens.json',\n",
       " './flan_t5_indian_finance/tokenizer.json')"
      ]
     },
     "execution_count": 1,
     "metadata": {},
     "output_type": "execute_result"
    }
   ],
   "source": [
    "import torch\n",
    "from transformers import AutoTokenizer, AutoModelForSeq2SeqLM, Trainer, TrainingArguments, DataCollatorForSeq2Seq\n",
    "from datasets import Dataset\n",
    "\n",
    "# Verfying Kagge GPU and device\n",
    "device = \"cuda\" if torch.cuda.is_available() else \"cpu\"\n",
    "print(\"GPU available:\", torch.cuda.is_available())\n",
    "if torch.cuda.is_available():\n",
    "    print(\"Using device:\", torch.cuda.get_device_name(0))\n",
    "\n",
    "# Use flan-t5-base for model\n",
    "model_name = \"google/flan-t5-base\"\n",
    "tokenizer = AutoTokenizer.from_pretrained(model_name)\n",
    "model = AutoModelForSeq2SeqLM.from_pretrained(model_name)\n",
    "model.to(device)\n",
    "\n",
    "\n",
    "data = {\n",
    "    \"input_text\": [\n",
    "        \"Net income increased by 15% year-over-year, driven by growth in subscription revenues.\",\n",
    "        \"Operating expenses rose significantly due to increased investments in research and development.\",\n",
    "        \"The company's debt-to-equity ratio stands at 2.5, indicating a highly leveraged position.\",\n",
    "        \"Cash flow from operations was robust, exceeding $100 million for the quarter.\",\n",
    "        \"Inventory turnover decreased by 10%, suggesting potential issues with demand or inventory management.\",\n",
    "        \"The company's gross profit margin improved to 65% due to efficient cost control measures.\",\n",
    "        \"Selling, general, and administrative expenses (SG&A) were reduced by 5% compared to the previous year.\",\n",
    "        \"The effective tax rate for the year was 25%, resulting in a tax expense of $50 million.\",\n",
    "        \"Capital expenditures totaled $75 million, primarily for expansion of production facilities.\",\n",
    "        \"The board of directors approved a share repurchase program of $200 million.\",\n",
    "        \"Despite a challenging market environment, revenue remained stable, demonstrating resilience.\",\n",
    "        \"The company's current ratio is below 1.0, suggesting potential liquidity concerns.\",\n",
    "        \"Research and development (R&D) spending increased by 20% to support innovation.\",\n",
    "        \"The company recognized a one-time gain of $25 million from the sale of a non-core asset.\",\n",
    "        \"Although revenue increased, net profit decreased due to foreign exchange losses.\",\n",
    "        \"The company issued new bonds with a coupon rate of 6% to raise capital for acquisitions.\",\n",
    "        \"The audit committee identified material weaknesses in the internal controls over financial reporting.\",\n",
    "        \"The company's CEO received a significantly larger compensation package compared to the previous year.\",\n",
    "        \"The company has been named as a co-defendant in a major intellectual property lawsuit.\",\n",
    "        \"Auditors raise concerns about the company's related-party transactions.\",\n",
    "        \n",
    "        \"Reliance Industries Limited reported consolidated revenue of ₹968,702 crore in FY24, with EBITDA of ₹178,677 crore, demonstrating a 9.2% year-on-year growth.\",\n",
    "        \"Tata Consultancy Services achieved ₹240,893 crore in revenue for FY24, with net margins at 18.6% and an operating cash flow to net income ratio of 111.4%.\",\n",
    "        \"HDFC Bank's gross advances grew by 22.4% YoY to reach ₹25.07 lakh crore, with net interest margin stable at 3.45% as of Q4 FY24.\",\n",
    "        \"ICICI Bank's CASA ratio improved to 44.6% in FY24 from 42.8% in FY23, while provisions decreased by 52.1% YoY to ₹1,049 crore in Q4 FY24.\",\n",
    "        \"Infosys reported an EBIT margin of 20.7% in FY24, with free cash flow conversion at 88.6% of net profit and a capital allocation policy returning 85% of free cash flow.\",\n",
    "        \"Bharti Airtel's ARPUs increased to ₹209 in Q4 FY24 from ₹178 in Q4 FY23, with data usage per customer reaching 21.8 GB per month.\",\n",
    "        \"HCL Technologies announced revenue of ₹113,667 crore for FY24, with an EBITDA margin of 23.5% and diluted EPS of ₹46.75.\",\n",
    "        \"Adani Enterprises reported consolidated EBITDA of ₹20,321 crore in FY24, up 45.6% YoY, with capital expenditure of ₹33,660 crore primarily in airport and road infrastructure.\",\n",
    "        \"State Bank of India's gross NPA ratio improved to 2.21% in Q4 FY24 from 2.78% in Q4 FY23, while the net NPA ratio declined to 0.58% from 0.67%.\",\n",
    "        \"Larsen & Toubro secured new orders worth ₹323,160 crore in FY24, representing a book-to-bill ratio of 1.3x and international orders constituting 35% of the total.\",\n",
    "        \"Wipro's IT Services segment generated revenue of ₹89,687 crore in FY24, with voluntary attrition decreasing to 14.2% from 19.4% in the previous fiscal year.\",\n",
    "        \"ITC Limited reported a 10.2% growth in FMCG-Others segment revenue to ₹19,366 crore in FY24, with EBITDA margin expanding by 150 basis points to 12.3%.\",\n",
    "        \"Mahindra & Mahindra's automotive segment witnessed a volume growth of 18.7% YoY in FY24, with a significant 47.5% increase in SUV volumes and EBITDA margin of 14.8%.\",\n",
    "        \"Asian Paints recorded consolidated revenue of ₹37,723 crore in FY24, with decorative business volume growth of 11.5% and gross margin expansion of 320 basis points YoY.\",\n",
    "        \"Coal India Limited achieved coal production of 773.6 million tonnes in FY24, up 10.2% YoY, with e-auction premiums averaging 82% above notified prices.\",\n",
    "        \n",
    "        \"What is EBITDA?\",\n",
    "        \"What is Net Interest Margin?\",\n",
    "        \"What is a Gross NPA ratio?\",\n",
    "        \"What is Capital Adequacy Ratio?\",\n",
    "        \"What is Return on Capital Employed (ROCE)?\",\n",
    "    ],\n",
    "    \"target_text\": [\n",
    "        \"The company's profits grew 15% thanks to more people subscribing to its services.\",\n",
    "        \"The company spent more money on developing new products and services, causing operating costs to increase.\",\n",
    "        \"The company has a lot of debt compared to its ownership, which is a high-risk situation.\",\n",
    "        \"The company generated a large amount of cash from its business operations this quarter.\",\n",
    "        \"The company is selling its products more slowly, indicating possible problems with sales or how well it's managing its supplies.\",\n",
    "        \"The company made more profit from each sale by controlling its costs effectively.\",\n",
    "        \"The company spent less money on sales, marketing, and general administration compared to last year.\",\n",
    "        \"The company paid $50 million in taxes this year, with an overall tax rate of 25%.\",\n",
    "        \"The company spent $75 million on new facilities to increase its production capacity.\",\n",
    "        \"The company will buy back its own shares worth $200 million.\",\n",
    "        \"Even though the market was tough, the company managed to maintain its sales level.\",\n",
    "        \"The company might have short-term cash problems because it owes more money than it has readily available.\",\n",
    "        \"The company is investing more in new ideas and technologies.\",\n",
    "        \"The company sold one of its less important assets and made $25 million from it.\",\n",
    "        \"Even though sales were up, the company made less money because it lost money on currency exchange.\",\n",
    "        \"The company borrowed money at a 6% interest rate, planning to use it for buying other businesses.\",\n",
    "        \"The company has problems with how it keeps track of its money, as pointed out by the auditors.\",\n",
    "        \"The CEO received a much bigger paycheck this year than last year.\",\n",
    "        \"The company is facing a major lawsuit over intellectual property rights.\",\n",
    "        \"The auditors are worried about deals the company made with its related parties.\",\n",
    "        \n",
    "        \"Reliance made ₹968,702 crore in sales this year, with their operating profit growing by 9.2% compared to last year.\",\n",
    "        \"TCS earned ₹240,893 crore this year, keeping 18.6% of that as profit and generating more cash than its reported profit.\",\n",
    "        \"HDFC Bank increased its loans by 22.4% compared to last year, reaching ₹25.07 lakh crore, while maintaining stable profit margins on these loans.\",\n",
    "        \"ICICI Bank improved the amount of low-cost deposits it holds, while needing to set aside much less money for bad loans compared to last year.\",\n",
    "        \"Infosys maintained a healthy 20.7% profit margin and is giving back 85% of its extra cash to shareholders.\",\n",
    "        \"Bharti Airtel is earning more money per customer (₹209 compared to ₹178 last year), with customers using more data than before.\",\n",
    "        \"HCL Technologies earned ₹113,667 crore this year, with about 23.5% of that being profit before taxes and interest payments.\",\n",
    "        \"Adani Enterprises' operating profit grew by 45.6% compared to last year, with the company investing heavily in airports and roads.\",\n",
    "        \"State Bank of India has improved the quality of its loans, with fewer loans going bad compared to last year.\",\n",
    "        \"Larsen & Toubro won ₹323,160 crore worth of new projects this year, with 35% of these coming from international clients.\",\n",
    "        \"Wipro's main IT business earned ₹89,687 crore, with fewer employees leaving the company compared to last year.\",\n",
    "        \"ITC's consumer products segment (excluding cigarettes) grew by 10.2%, with profit margins improving significantly.\",\n",
    "        \"Mahindra & Mahindra sold 18.7% more vehicles than last year, with SUV sales growing by 47.5% and healthy profit margins.\",\n",
    "        \"Asian Paints earned ₹37,723 crore this year, selling 11.5% more paint and making more profit on each sale.\",\n",
    "        \"Coal India produced 773.6 million tonnes of coal this year (10.2% more than last year) and sold coal in auctions at prices 82% higher than standard rates.\",\n",
    "        \n",
    "        # Simplified explanations for financial terms\n",
    "        \"EBITDA is a company's earnings before deducting interest, taxes, depreciation, and amortization - it shows how much money a company makes from its core operations.\",\n",
    "        \"Net Interest Margin is the difference between what a bank earns from loans and what it pays for deposits, shown as a percentage - higher is usually better.\",\n",
    "        \"Gross NPA ratio shows what percentage of a bank's loans aren't being paid back on time - a lower number is healthier.\",\n",
    "        \"Capital Adequacy Ratio is how much money a bank has compared to its risky assets - it's a safety cushion against losses.\",\n",
    "        \"ROCE measures how efficiently a company uses its capital to generate profits - it tells you how many rupees of profit are made for each rupee invested in the business.\",\n",
    "    ]\n",
    "}\n",
    "\n",
    "# Create a Hugging Face dataset and split into train and evaluation sets\n",
    "dataset = Dataset.from_dict(data)\n",
    "split_dataset = dataset.train_test_split(test_size=0.2)\n",
    "train_dataset = split_dataset[\"train\"]\n",
    "eval_dataset = split_dataset[\"test\"]\n",
    "\n",
    "def tokenize_function(example):\n",
    "    model_inputs = tokenizer(example[\"input_text\"], max_length=512, truncation=True)\n",
    "    labels = tokenizer(example[\"target_text\"], max_length=150, truncation=True)\n",
    "    model_inputs[\"labels\"] = labels[\"input_ids\"]\n",
    "    return model_inputs\n",
    "\n",
    "# Tokenizing DataSets\n",
    "tokenized_train = train_dataset.map(tokenize_function, batched=True)\n",
    "tokenized_eval = eval_dataset.map(tokenize_function, batched=True)\n",
    "\n",
    "# Set up training arguments (using fp16 for T4)\n",
    "training_args = TrainingArguments(\n",
    "    output_dir=\"./flan_t5_indian_finance\",\n",
    "    num_train_epochs=3,\n",
    "    per_device_train_batch_size=4,\n",
    "    per_device_eval_batch_size=4,\n",
    "    evaluation_strategy=\"epoch\", \n",
    "    save_strategy=\"epoch\",\n",
    "    logging_steps=10,\n",
    "    learning_rate=5e-5,\n",
    "    fp16=True,\n",
    "    dataloader_num_workers=2,\n",
    "    report_to=[],\n",
    "    gradient_accumulation_steps=2\n",
    ")\n",
    "\n",
    "# Initialize Data Collator for Seq2Seq tasks to handle dynamic padding\n",
    "data_collator = DataCollatorForSeq2Seq(tokenizer, model=model)\n",
    "\n",
    "# Initialize the Trainer\n",
    "trainer = Trainer(\n",
    "    model=model,\n",
    "    args=training_args,\n",
    "    train_dataset=tokenized_train,\n",
    "    eval_dataset=tokenized_eval,\n",
    "    data_collator=data_collator,\n",
    ")\n",
    "\n",
    "# Start fine-tuning\n",
    "trainer.train()\n",
    "\n",
    "# Save the model\n",
    "model.save_pretrained(\"./flan_t5_indian_finance\")\n",
    "tokenizer.save_pretrained(\"./flan_t5_indian_finance\")"
   ]
  },
  {
   "cell_type": "markdown",
   "metadata": {},
   "source": [
    "# Inferenece code"
   ]
  },
  {
   "cell_type": "code",
   "execution_count": 4,
   "metadata": {
    "execution": {
     "iopub.execute_input": "2025-03-27T23:37:13.309613Z",
     "iopub.status.busy": "2025-03-27T23:37:13.309213Z",
     "iopub.status.idle": "2025-03-27T23:37:22.570904Z",
     "shell.execute_reply": "2025-03-27T23:37:22.569927Z",
     "shell.execute_reply.started": "2025-03-27T23:37:13.309585Z"
    },
    "trusted": true
   },
   "outputs": [
    {
     "name": "stdout",
     "output_type": "stream",
     "text": [
      "Loading fine-tuned model from ./flan_t5_indian_finance\n",
      "===== FINANCIAL STATEMENT SIMPLIFICATION =====\n",
      "\n",
      "\n",
      "----- COMPLEX REPORT #1 -----\n",
      "\n",
      "    Tata Steel Limited reported consolidated revenues of ₹223,519 crore for FY24, a decline of 7.2% YoY primarily \n",
      "    due to lower realizations across key markets. EBITDA stood at ₹25,323 crore, with margins contracting by 380 \n",
      "    basis points to 11.3%. The company's consolidated PAT declined by 53.4% to ₹8,356 crore.\n",
      "    \n",
      "\n",
      "----- SIMPLIFIED EXPLANATION -----\n",
      "Tata Steel Limited reported consolidated revenues of 223,519 crore for FY24, a decline of 7.2% YoY primarily due to lower realizations across key markets.\n",
      "\n",
      "==================================================\n",
      "\n",
      "----- COMPLEX REPORT #2 -----\n",
      "\n",
      "    HDFC Bank's gross advances grew by 22.4% YoY to reach ₹25.07 lakh crore, with net interest margin stable \n",
      "    at 3.45% as of Q4 FY24. The bank reported a Capital Adequacy Ratio of 19.2%, while maintaining a Gross NPA \n",
      "    ratio of 1.24%, reflecting strong asset quality management in a challenging economic environment.\n",
      "    \n",
      "\n",
      "----- SIMPLIFIED EXPLANATION -----\n",
      "HDFC Bank's gross advances grew by 22.4% YoY to reach 25.07 lakh crore, with net interest margin stable at 3.45% as of Q4 FY24, with a Capital Adequacy Ratio of 19.2%, while maintaining a Gross NPA ratio of 1.24%, reflecting strong asset quality management in a challenging economic environment.\n",
      "\n",
      "==================================================\n",
      "\n",
      "----- COMPLEX REPORT #3 -----\n",
      "What is EBITDA and why is it important for evaluating a company's financial performance?\n",
      "\n",
      "----- SIMPLIFIED EXPLANATION -----\n",
      "EBITDA is a measure of a company's financial performance. EBITDA is a measure of a company's financial performance. EBITDA is a measure of the company's financial performance.\n",
      "\n",
      "==================================================\n",
      "\n",
      "----- COMPLEX REPORT #4 -----\n",
      "The company's current ratio is below 1.0, suggesting potential liquidity concerns.\n",
      "\n",
      "----- SIMPLIFIED EXPLANATION -----\n",
      "The company's current ratio is below 1.0, suggesting potential liquidity concerns. The company's current ratio is below 1.0.\n",
      "\n",
      "==================================================\n",
      "\n",
      "\n",
      "===== DETAILED EXAMPLE =====\n",
      "\n",
      "Original Financial Report:\n",
      "\n",
      "Bajaj Finance Limited reported a 33% YoY growth in Assets Under Management (AUM) to ₹325,523 crore in FY24, \n",
      "with the consolidated customer franchise expanding to 85.6 million (up 20% YoY). Net Interest Income (NII) \n",
      "grew by 28% to ₹33,411 crore, while Net Interest Margin (NIM) contracted by 25 bps to 10.2%. The Gross NPA \n",
      "ratio and Net NPA ratio improved to 0.85% and 0.28% respectively, compared to 0.94% and 0.34% in FY23. The \n",
      "company's Capital Adequacy Ratio (including Tier-II capital) stood at a robust 22.55%, with a Tier-I capital \n",
      "ratio of 20.01%. The provisioning coverage ratio improved to 67%, while the liquidity buffer was maintained \n",
      "at 9.1% of total borrowings.\n",
      "\n",
      "\n",
      "Simplified Explanation:\n",
      "Bajaj Finance Limited reported a 33% YoY growth in Assets Under Management to 325,523 crore, with the consolidated customer franchise expanding to 85.6 million (up 20% YoY). Net Interest Income (NII) grew by 28% to 33,411 crore, while Net Interest Margin (NIM) contracted by 25 bps to 10.2%. The Gross NPA ratio and Net NPA ratio improved to 0.85% and 0.28% respectively, compared to 0.94% and 0.34% in FY23. The company's Capital Adequacy Ratio (including Tier-II capital) stood at a robust 22.55%, with a\n"
     ]
    }
   ],
   "source": [
    "\n",
    "model_path = \"./flan_t5_indian_finance\"\n",
    "try:\n",
    "    print(\"Loadng fine-tuned model from\", model_path)\n",
    "    tokenizer = AutoTokenizer.from_pretrained(model_path)\n",
    "    model = AutoModelForSeq2SeqLM.from_pretrained(model_path)\n",
    "except Exception as e:\n",
    "    print(f\"Error loading fine-tuned model: {e}\")\n",
    "    print(\"Fall through to base model, for APIs and NGRock\")\n",
    "    model_name = \"google/flan-t5-base\"\n",
    "    tokenizer = AutoTokenizer.from_pretrained(model_name)\n",
    "    model = AutoModelForSeq2SeqLM.from_pretrained(model_name)\n",
    "\n",
    "\n",
    "device = \"cuda\" if torch.cuda.is_available() else \"cpu\"\n",
    "model.to(device)\n",
    "\n",
    "model.eval()\n",
    "\n",
    "def generate_simplified_explanation(financial_text):\n",
    "    \"\"\"\n",
    "    In the given Financial Reports , I want you to Simplify those financial reports in form of a story and for 15 year old, Simplify technical terms into easiers \n",
    "    terms.\n",
    "    \"\"\"\n",
    "   \n",
    "    prompt = f\"simplify this financial statement: {financial_text}\"\n",
    "    \n",
    "    inputs = tokenizer(\n",
    "        prompt,\n",
    "        return_tensors=\"pt\",\n",
    "        max_length=512,\n",
    "        padding=\"max_length\",\n",
    "        truncation=True\n",
    "    ).to(device)\n",
    "    \n",
    "    \n",
    "    with torch.no_grad():  \n",
    "        outputs = model.generate(\n",
    "            inputs.input_ids,\n",
    "            attention_mask=inputs.attention_mask,\n",
    "            max_length=150,\n",
    "            min_length=20,  # Prevent very short outputs like \"ssss\"\n",
    "            do_sample=True,  # Enable sampling for more diverse outputs\n",
    "            temperature=0.7,  # Control randomness (lower = more deterministic)\n",
    "            top_p=0.9,        # Nucleus sampling\n",
    "            num_beams=4,      # Beam search for better quality\n",
    "            early_stopping=True\n",
    "        )\n",
    "    \n",
    "    # Output sampling \n",
    "    simplified_text = tokenizer.decode(outputs[0], skip_special_tokens=True)\n",
    "    \n",
    " # Fall back situation\n",
    "    if not simplified_text or simplified_text.isspace() or \"s\" * 3 in simplified_text:\n",
    "        return \"The model failed to produce a meaningful simplification. This financial statement discusses \" + \\\n",
    "               financial_text.split()[0:5] + \"... Please try with a different statement or model.\"\n",
    "    \n",
    "    return simplified_text\n",
    "\n",
    "complex_reports = [\n",
    "    # Example 1: Tata Steel\n",
    "    \"\"\"\n",
    "    Tata Steel Limited reported consolidated revenues of ₹223,519 crore for FY24, a decline of 7.2% YoY primarily \n",
    "    due to lower realizations across key markets. EBITDA stood at ₹25,323 crore, with margins contracting by 380 \n",
    "    basis points to 11.3%. The company's consolidated PAT declined by 53.4% to ₹8,356 crore.\n",
    "    \"\"\",\n",
    "    \n",
    "    # Example 2: HDFC Bank\n",
    "    \"\"\"\n",
    "    HDFC Bank's gross advances grew by 22.4% YoY to reach ₹25.07 lakh crore, with net interest margin stable \n",
    "    at 3.45% as of Q4 FY24. The bank reported a Capital Adequacy Ratio of 19.2%, while maintaining a Gross NPA \n",
    "    ratio of 1.24%, reflecting strong asset quality management in a challenging economic environment.\n",
    "    \"\"\",\n",
    "    \n",
    "    # Example 3: Simple financial term explanation\n",
    "    \"What is EBITDA and why is it important for evaluating a company's financial performance?\",\n",
    "    \n",
    "    # Example 4: Short statement for testing\n",
    "    \"The company's current ratio is below 1.0, suggesting potential liquidity concerns.\",\n",
    "]\n",
    "\n",
    "# Test with each example\n",
    "print(\"===== FINANCIAL STATEMENT SIMPLIFICATION =====\\n\")\n",
    "for i, report in enumerate(complex_reports):\n",
    "    print(f\"\\n----- COMPLEX REPORT #{i+1} -----\")\n",
    "    print(report)\n",
    "    print(\"\\n----- SIMPLIFIED EXPLANATION -----\")\n",
    "    simplified = generate_simplified_explanation(report)\n",
    "    print(simplified)\n",
    "    print(\"\\n\" + \"=\"*50)\n",
    "\n",
    "# Test with a longer, more complex report\n",
    "complex_report = \"\"\"\n",
    "Bajaj Finance Limited reported a 33% YoY growth in Assets Under Management (AUM) to ₹325,523 crore in FY24, \n",
    "with the consolidated customer franchise expanding to 85.6 million (up 20% YoY). Net Interest Income (NII) \n",
    "grew by 28% to ₹33,411 crore, while Net Interest Margin (NIM) contracted by 25 bps to 10.2%. The Gross NPA \n",
    "ratio and Net NPA ratio improved to 0.85% and 0.28% respectively, compared to 0.94% and 0.34% in FY23. The \n",
    "company's Capital Adequacy Ratio (including Tier-II capital) stood at a robust 22.55%, with a Tier-I capital \n",
    "ratio of 20.01%. The provisioning coverage ratio improved to 67%, while the liquidity buffer was maintained \n",
    "at 9.1% of total borrowings.\n",
    "\"\"\"\n",
    "\n",
    "print(\"\\n\\n===== DETAILED EXAMPLE =====\")\n",
    "print(\"\\nOriginal Financial Report:\")\n",
    "print(complex_report)\n",
    "print(\"\\nSimplified Explanation:\")\n",
    "simplified = generate_simplified_explanation(complex_report)\n",
    "print(simplified)"
   ]
  }
 ],
 "metadata": {
  "kaggle": {
   "accelerator": "nvidiaTeslaT4",
   "dataSources": [],
   "isGpuEnabled": true,
   "isInternetEnabled": true,
   "language": "python",
   "sourceType": "notebook"
  },
  "kernelspec": {
   "display_name": "Python 3",
   "language": "python",
   "name": "python3"
  },
  "language_info": {
   "codemirror_mode": {
    "name": "ipython",
    "version": 3
   },
   "file_extension": ".py",
   "mimetype": "text/x-python",
   "name": "python",
   "nbconvert_exporter": "python",
   "pygments_lexer": "ipython3",
   "version": "3.10.12"
  }
 },
 "nbformat": 4,
 "nbformat_minor": 4
}
